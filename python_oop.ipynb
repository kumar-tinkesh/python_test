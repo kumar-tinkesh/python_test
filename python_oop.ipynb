{
 "cells": [
  {
   "cell_type": "code",
   "execution_count": 1,
   "metadata": {},
   "outputs": [
    {
     "name": "stdout",
     "output_type": "stream",
     "text": [
      "Blu is 10 years old\n",
      "Woo is 15 years old\n"
     ]
    }
   ],
   "source": [
    "class A:\n",
    "\n",
    "    # class attribute\n",
    "    name = \"\"\n",
    "    age = 0\n",
    "\n",
    "A1 = A()\n",
    "A1.name = \"Blu\"\n",
    "A1.age = 10\n",
    "\n",
    "A2 = A()\n",
    "A2.name = \"Woo\"\n",
    "A2.age = 15\n",
    "\n",
    "# access attributes\n",
    "print(f\"{A1.name} is {A1.age} years old\")\n",
    "print(f\"{A2.name} is {A2.age} years old\")"
   ]
  },
  {
   "cell_type": "code",
   "execution_count": 1,
   "metadata": {},
   "outputs": [
    {
     "name": "stdout",
     "output_type": "stream",
     "text": [
      "I can eat!\n",
      "I can sleep!\n",
      "I can bark! Woof woof!!\n"
     ]
    }
   ],
   "source": [
    "# inharitence\n",
    "\n",
    "# base class\n",
    "class Animal:\n",
    "    \n",
    "    def eat(self):\n",
    "        print( \"I can eat!\")\n",
    "    \n",
    "    def sleep(self):\n",
    "        print(\"I can sleep!\")\n",
    "\n",
    "# derived class\n",
    "class Dog(Animal):\n",
    "    \n",
    "    def bark(self):\n",
    "        print(\"I can bark! Woof woof!!\")\n",
    "\n",
    "# Create object of the Dog class\n",
    "dog1 = Dog()\n",
    "\n",
    "# Calling members of the base class\n",
    "dog1.eat()\n",
    "dog1.sleep()\n",
    "\n",
    "# Calling member of the derived class\n",
    "dog1.bark();"
   ]
  },
  {
   "cell_type": "code",
   "execution_count": 2,
   "metadata": {},
   "outputs": [
    {
     "name": "stdout",
     "output_type": "stream",
     "text": [
      "Selling Price: 900\n",
      "Selling Price: 900\n",
      "Selling Price: 1000\n"
     ]
    }
   ],
   "source": [
    "# encapsulation\n",
    "\n",
    "class Computer:\n",
    "\n",
    "    def __init__(self):\n",
    "        self.__maxprice = 900\n",
    "\n",
    "    def sell(self):\n",
    "        print(\"Selling Price: {}\".format(self.__maxprice))\n",
    "\n",
    "    def setMaxPrice(self, price):\n",
    "        self.__maxprice = price\n",
    "\n",
    "c = Computer()\n",
    "c.sell()\n",
    "\n",
    "# change the price\n",
    "c.__maxprice = 1000\n",
    "c.sell()\n",
    "\n",
    "# using setter function\n",
    "c.setMaxPrice(1000)\n",
    "c.sell()"
   ]
  },
  {
   "cell_type": "code",
   "execution_count": 3,
   "metadata": {},
   "outputs": [
    {
     "name": "stdout",
     "output_type": "stream",
     "text": [
      "Rendering Square...\n",
      "Rendering Circle...\n"
     ]
    }
   ],
   "source": [
    "# polymorphism\n",
    "\n",
    "class Polygon:\n",
    "    # method to render a shape\n",
    "    def render(self):\n",
    "        print(\"Rendering Polygon...\")\n",
    "\n",
    "class Square(Polygon):\n",
    "    # renders Square\n",
    "    def render(self):\n",
    "        print(\"Rendering Square...\")\n",
    "\n",
    "class Circle(Polygon):\n",
    "    # renders circle\n",
    "    def render(self):\n",
    "        print(\"Rendering Circle...\")\n",
    "    \n",
    "# create an object of Square\n",
    "s1 = Square()\n",
    "s1.render()\n",
    "\n",
    "# create an object of Circle\n",
    "c1 = Circle()\n",
    "c1.render()"
   ]
  }
 ],
 "metadata": {
  "kernelspec": {
   "display_name": "Python 3",
   "language": "python",
   "name": "python3"
  },
  "language_info": {
   "codemirror_mode": {
    "name": "ipython",
    "version": 3
   },
   "file_extension": ".py",
   "mimetype": "text/x-python",
   "name": "python",
   "nbconvert_exporter": "python",
   "pygments_lexer": "ipython3",
   "version": "3.11.5"
  },
  "orig_nbformat": 4
 },
 "nbformat": 4,
 "nbformat_minor": 2
}
