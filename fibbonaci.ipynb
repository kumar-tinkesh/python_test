{
 "cells": [
  {
   "cell_type": "code",
   "execution_count": null,
   "metadata": {},
   "outputs": [],
   "source": [
    "num = int(input (\"Enter the number you want to print: \"))     \n",
    "\n",
    "a = 0    \n",
    "b = 1    \n",
    "for i in range(0,n):  \n",
    "    print(a, end = \" \") \n",
    "    c = a+b                       \n",
    "    a = b              \n",
    "    b = c       "
   ]
  },
  {
   "cell_type": "code",
   "execution_count": 17,
   "metadata": {},
   "outputs": [
    {
     "name": "stdout",
     "output_type": "stream",
     "text": [
      "The fibonacci sequence is:\n",
      "0 1 1 2 3 "
     ]
    }
   ],
   "source": [
    "n_terms = int(input (\"How many terms the user wants to print? \"))  \n",
    "   \n",
    "n1 = 0  \n",
    "n2 = 1  \n",
    "count = 0  \n",
    "  \n",
    "if n_terms <= 0:  \n",
    "    print (\"Please enter a positive integer, the given number is not valid\")  \n",
    "\n",
    "elif n_terms == 1:  \n",
    "    print (\"The Fibonacci sequence of 1 is : \") \n",
    "    print(\" \",end=\" \") \n",
    "    print(n1)  \n",
    "\n",
    "else:  \n",
    "    print (\"The fibonacci sequence is:\")  \n",
    "    while count < n_terms:  \n",
    "        print(n1,end=\" \")  \n",
    "        nth = n1 + n2  \n",
    "      \n",
    "        n1 = n2  \n",
    "        n2 = nth  \n",
    "        count += 1  "
   ]
  }
 ],
 "metadata": {
  "kernelspec": {
   "display_name": "Python 3",
   "language": "python",
   "name": "python3"
  },
  "language_info": {
   "codemirror_mode": {
    "name": "ipython",
    "version": 3
   },
   "file_extension": ".py",
   "mimetype": "text/x-python",
   "name": "python",
   "nbconvert_exporter": "python",
   "pygments_lexer": "ipython3",
   "version": "3.11.5"
  },
  "orig_nbformat": 4
 },
 "nbformat": 4,
 "nbformat_minor": 2
}
