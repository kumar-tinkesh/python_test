{
 "cells": [
  {
   "cell_type": "code",
   "execution_count": 4,
   "metadata": {},
   "outputs": [
    {
     "name": "stdout",
     "output_type": "stream",
     "text": [
      "civic : is Palindrome\n"
     ]
    }
   ],
   "source": [
    "input_string = 'civic'\n",
    "rev = input_string[::-1]\n",
    "\n",
    "if input_string == rev:\n",
    "    print(rev + \" : is Palindrome\")\n",
    "else:\n",
    "    print(rev + \": is not Palindrome\")"
   ]
  },
  {
   "cell_type": "code",
   "execution_count": 7,
   "metadata": {},
   "outputs": [
    {
     "name": "stdout",
     "output_type": "stream",
     "text": [
      "Palindrome\n"
     ]
    }
   ],
   "source": [
    "def isPalindrome(input_str):\n",
    "\n",
    "    for i in range(0, len(input_str)):\n",
    "\n",
    "        if input_str[i] == input_str[len(input_str) - i - 1]:\n",
    "            return True\n",
    "\n",
    "    return False\n",
    "\n",
    "input_str = \"civic\"\n",
    "\n",
    "print(\"Palindrome\") if isPalindrome(input_str) else print(\"Not Palindrome\")"
   ]
  }
 ],
 "metadata": {
  "kernelspec": {
   "display_name": "Python 3",
   "language": "python",
   "name": "python3"
  },
  "language_info": {
   "codemirror_mode": {
    "name": "ipython",
    "version": 3
   },
   "file_extension": ".py",
   "mimetype": "text/x-python",
   "name": "python",
   "nbconvert_exporter": "python",
   "pygments_lexer": "ipython3",
   "version": "3.11.5"
  },
  "orig_nbformat": 4
 },
 "nbformat": 4,
 "nbformat_minor": 2
}
