{
 "cells": [
  {
   "cell_type": "code",
   "execution_count": 7,
   "metadata": {},
   "outputs": [
    {
     "name": "stdout",
     "output_type": "stream",
     "text": [
      "9.0\n",
      "9\n"
     ]
    }
   ],
   "source": [
    "a = 12\n",
    "b = 6\n",
    "avg = (a+b)/2\n",
    "avg2 = (a+b)//2\n",
    "print(avg)\n",
    "print(avg2)"
   ]
  },
  {
   "cell_type": "code",
   "execution_count": 11,
   "metadata": {},
   "outputs": [
    {
     "name": "stdout",
     "output_type": "stream",
     "text": [
      "Average of two numbers =  9.0\n"
     ]
    }
   ],
   "source": [
    "def average(a, b):\n",
    "    return (a + b)//2\n",
    "    \n",
    "num1 = int(input(\"Enter the first number: \"))\n",
    "num2 = int(input(\"Enter the second number: \"))\n",
    "\n",
    "avg = average(num1, num2)\n",
    "\n",
    "print(\"Average of two numbers = \" ,avg)"
   ]
  },
  {
   "cell_type": "code",
   "execution_count": 13,
   "metadata": {},
   "outputs": [
    {
     "name": "stdout",
     "output_type": "stream",
     "text": [
      "Average of two numbers = 8.50\n"
     ]
    }
   ],
   "source": [
    "def average(a, b):\n",
    "    return (a + b)/2\n",
    "    \n",
    "num1 = float(input(\"Enter the first number: \"))\n",
    "num2 = float(input(\"Enter the second number: \"))\n",
    "\n",
    "avg = average(num1, num2)\n",
    "\n",
    "print(\"Average of two numbers = %.2f\" %avg)"
   ]
  },
  {
   "cell_type": "code",
   "execution_count": 17,
   "metadata": {},
   "outputs": [
    {
     "name": "stdout",
     "output_type": "stream",
     "text": [
      "Average = 3.5\n"
     ]
    }
   ],
   "source": [
    "x = 5\n",
    "y = 2\n",
    "# Find sum of two numbers\n",
    "sum = x + y\n",
    "# Find the average\n",
    "average = sum / 2\n",
    "print(f'Average = {average}')"
   ]
  }
 ],
 "metadata": {
  "kernelspec": {
   "display_name": "Python 3",
   "language": "python",
   "name": "python3"
  },
  "language_info": {
   "codemirror_mode": {
    "name": "ipython",
    "version": 3
   },
   "file_extension": ".py",
   "mimetype": "text/x-python",
   "name": "python",
   "nbconvert_exporter": "python",
   "pygments_lexer": "ipython3",
   "version": "3.11.5"
  },
  "orig_nbformat": 4
 },
 "nbformat": 4,
 "nbformat_minor": 2
}
