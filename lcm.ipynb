{
 "cells": [
  {
   "cell_type": "code",
   "execution_count": 2,
   "metadata": {},
   "outputs": [
    {
     "name": "stdout",
     "output_type": "stream",
     "text": [
      "L C M is :  84\n"
     ]
    }
   ],
   "source": [
    "a = 12\n",
    "b = 14\n",
    "if a>b:\n",
    "    greater = a\n",
    "else:\n",
    "    greater = b\n",
    "while(True):\n",
    "    if((greater%a == 0) and (greater%b == 0)):\n",
    "        lcm = greater\n",
    "        break\n",
    "    greater = greater+1\n",
    "\n",
    "print(\"L C M is : \", lcm)\n"
   ]
  },
  {
   "cell_type": "code",
   "execution_count": 6,
   "metadata": {},
   "outputs": [
    {
     "name": "stdout",
     "output_type": "stream",
     "text": [
      "H C F is :  2\n",
      "L C M is :  84\n"
     ]
    }
   ],
   "source": [
    "a = 12\n",
    "b = 14\n",
    "\n",
    "if a>b:\n",
    "    smaller = b\n",
    "else:\n",
    "    smaller = a\n",
    "for i in range(1, smaller+1):\n",
    "    if((a%i == 0) and (b%i == 0)):\n",
    "        hcf = i\n",
    "print(\"H C F is : \", hcf)\n",
    "\n",
    "lcm = (a*b)//hcf\n",
    "print(\"L C M is : \", lcm)"
   ]
  }
 ],
 "metadata": {
  "kernelspec": {
   "display_name": "Python 3",
   "language": "python",
   "name": "python3"
  },
  "language_info": {
   "codemirror_mode": {
    "name": "ipython",
    "version": 3
   },
   "file_extension": ".py",
   "mimetype": "text/x-python",
   "name": "python",
   "nbconvert_exporter": "python",
   "pygments_lexer": "ipython3",
   "version": "3.11.5"
  },
  "orig_nbformat": 4
 },
 "nbformat": 4,
 "nbformat_minor": 2
}
