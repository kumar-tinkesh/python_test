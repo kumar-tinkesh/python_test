{
 "cells": [
  {
   "cell_type": "code",
   "execution_count": 2,
   "metadata": {},
   "outputs": [
    {
     "name": "stdout",
     "output_type": "stream",
     "text": [
      "Hello World\n"
     ]
    }
   ],
   "source": [
    "a = \"Hello\"\n",
    "b = \"World\"\n",
    "c = a + \" \" + b\n",
    "print(c)"
   ]
  },
  {
   "cell_type": "code",
   "execution_count": 3,
   "metadata": {},
   "outputs": [
    {
     "name": "stdout",
     "output_type": "stream",
     "text": [
      "HelloPoint\n",
      "Hello Point\n"
     ]
    }
   ],
   "source": [
    "s1=\"Hello\"\n",
    "s2=\"Point\"\n",
    "s3=\"{}{}\".format(s1,s2)\n",
    "s4=\"{} {}\".format(s1,s2)\n",
    "print(s3)\n",
    "print(s4)"
   ]
  },
  {
   "cell_type": "code",
   "execution_count": 4,
   "metadata": {},
   "outputs": [
    {
     "name": "stdout",
     "output_type": "stream",
     "text": [
      "String Concatenation\n"
     ]
    }
   ],
   "source": [
    "s1 = 'String'\n",
    "s2 = s1 + ' Concatenation'\n",
    "print(s2)"
   ]
  },
  {
   "cell_type": "code",
   "execution_count": 5,
   "metadata": {},
   "outputs": [
    {
     "name": "stdout",
     "output_type": "stream",
     "text": [
      "String Concatenation\n"
     ]
    }
   ],
   "source": [
    "s1 = 'String'\n",
    "s2 = 'Concatenation'\n",
    "\n",
    "s3 = ' '.join([s1, s2])\n",
    "print(s3)"
   ]
  },
  {
   "cell_type": "code",
   "execution_count": 6,
   "metadata": {},
   "outputs": [
    {
     "name": "stdout",
     "output_type": "stream",
     "text": [
      "Python String Concatenation\n"
     ]
    }
   ],
   "source": [
    "s1, s2, s3 = 'Python', 'String', 'Concatenation'\n",
    "s = '{} {} {}'.format(s1, s2, s3)\n",
    "print(s)"
   ]
  },
  {
   "cell_type": "code",
   "execution_count": 7,
   "metadata": {},
   "outputs": [
    {
     "name": "stdout",
     "output_type": "stream",
     "text": [
      "Python String Concatenation\n"
     ]
    }
   ],
   "source": [
    "s1, s2, s3 = 'Python', 'String', 'Concatenation'\n",
    "s = f'{s1} {s2} {s3}'\n",
    "print(s)"
   ]
  },
  {
   "cell_type": "code",
   "execution_count": 8,
   "metadata": {},
   "outputs": [
    {
     "name": "stdout",
     "output_type": "stream",
     "text": [
      "Python String Concatenation\n"
     ]
    }
   ],
   "source": [
    "s1, s2, s3 = 'Python', 'String', 'Concatenation'\n",
    "s = '%s %s %s' % (s1, s2, s3)\n",
    "print(s)"
   ]
  }
 ],
 "metadata": {
  "kernelspec": {
   "display_name": "Python 3",
   "language": "python",
   "name": "python3"
  },
  "language_info": {
   "codemirror_mode": {
    "name": "ipython",
    "version": 3
   },
   "file_extension": ".py",
   "mimetype": "text/x-python",
   "name": "python",
   "nbconvert_exporter": "python",
   "pygments_lexer": "ipython3",
   "version": "3.11.5"
  },
  "orig_nbformat": 4
 },
 "nbformat": 4,
 "nbformat_minor": 2
}
