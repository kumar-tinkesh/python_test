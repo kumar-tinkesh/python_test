{
 "cells": [
  {
   "cell_type": "code",
   "execution_count": 5,
   "metadata": {},
   "outputs": [
    {
     "name": "stdout",
     "output_type": "stream",
     "text": [
      "Leap Year\n"
     ]
    }
   ],
   "source": [
    "year = 2000\n",
    "\n",
    "if (year%400 == 0) or (year%4==0 and year%100!=0):\n",
    "    print(\"Leap Year\")\n",
    "else:\n",
    "    print(\"Not a Leap Year\")"
   ]
  },
  {
   "cell_type": "code",
   "execution_count": 6,
   "metadata": {},
   "outputs": [
    {
     "name": "stdout",
     "output_type": "stream",
     "text": [
      "Leap Year\n"
     ]
    }
   ],
   "source": [
    "year = 2000\n",
    "if( ((year % 4 == 0) and (year % 100 != 0)) or (year % 400==0) ):\n",
    "    print(\"Leap Year\")\n",
    "else:\n",
    "    print(\"Not leap Year\")"
   ]
  },
  {
   "cell_type": "code",
   "execution_count": 7,
   "metadata": {},
   "outputs": [
    {
     "name": "stdout",
     "output_type": "stream",
     "text": [
      "2001 is not leap year\n"
     ]
    }
   ],
   "source": [
    "def check_leap(year): \n",
    "    return (year % 4 == 0 and year % 100 != 0) or (year % 400 == 0) \n",
    "\n",
    "year = int(input(\"Enter a year: \")) \n",
    "\n",
    "print(f\"{year} is leap year\" if check_leap(year) else f\"{year} is not leap year\")"
   ]
  },
  {
   "cell_type": "code",
   "execution_count": 8,
   "metadata": {},
   "outputs": [
    {
     "name": "stdout",
     "output_type": "stream",
     "text": [
      "2003 is not a leap year.\n"
     ]
    }
   ],
   "source": [
    "import calendar\n",
    "\n",
    "year = int(input(\"Enter a year: \"))\n",
    "\n",
    "if calendar.isleap(year):\n",
    "    print(year, \" is a leap year\")\n",
    "else:\n",
    "    print(year, \"is not a leap year.\")"
   ]
  },
  {
   "cell_type": "code",
   "execution_count": 9,
   "metadata": {},
   "outputs": [
    {
     "name": "stdout",
     "output_type": "stream",
     "text": [
      "2005 is not a leap year.\n"
     ]
    }
   ],
   "source": [
    "is_leap_year = lambda year: (year % 4 == 0 and year % 100 != 0) or (year % 400 == 0)\n",
    "\n",
    "year = int(input(\"Enter a year: \"))\n",
    "\n",
    "if is_leap_year(year):\n",
    "    print(year, \" is a leap year\")\n",
    "else:\n",
    "    print(year, \"is not a leap year.\")"
   ]
  }
 ],
 "metadata": {
  "kernelspec": {
   "display_name": "Python 3",
   "language": "python",
   "name": "python3"
  },
  "language_info": {
   "codemirror_mode": {
    "name": "ipython",
    "version": 3
   },
   "file_extension": ".py",
   "mimetype": "text/x-python",
   "name": "python",
   "nbconvert_exporter": "python",
   "pygments_lexer": "ipython3",
   "version": "3.11.5"
  },
  "orig_nbformat": 4
 },
 "nbformat": 4,
 "nbformat_minor": 2
}
