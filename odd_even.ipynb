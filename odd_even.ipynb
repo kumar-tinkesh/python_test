{
 "cells": [
  {
   "cell_type": "code",
   "execution_count": 3,
   "metadata": {},
   "outputs": [
    {
     "name": "stdout",
     "output_type": "stream",
     "text": [
      "24 Is Even Number\n",
      "19 Is odd Number\n"
     ]
    }
   ],
   "source": [
    "x = 24\n",
    "   \n",
    "if x % 24 == 0:\n",
    "    print(x,\"Is Even Number\")\n",
    "else:\n",
    "    print(x, \"Is Odd Number\")\n",
    "     \n",
    "y = 19\n",
    "   \n",
    "if y % 19 == 0:\n",
    "    print(y,\"Is odd Number\")\n",
    "else:\n",
    "    print(y, \"Is even Number\")"
   ]
  },
  {
   "cell_type": "code",
   "execution_count": 2,
   "metadata": {},
   "outputs": [
    {
     "name": "stdout",
     "output_type": "stream",
     "text": [
      "71 is odd number.\n",
      "72 is even number.\n"
     ]
    }
   ],
   "source": [
    "def even_odd(number):\n",
    "    if (number % 2) == 0:\n",
    "        print(f\"{number} is even number.\")\n",
    "    else:\n",
    "        print(f\"{number} is odd number.\")\n",
    "\n",
    "\n",
    "if __name__ == '__main__':\n",
    "    number_1 = 71\n",
    "    even_odd(number_1)\n",
    "\n",
    "    number_2 = 72\n",
    "    even_odd(number_2)"
   ]
  },
  {
   "cell_type": "code",
   "execution_count": 11,
   "metadata": {},
   "outputs": [
    {
     "name": "stdout",
     "output_type": "stream",
     "text": [
      "number is even\n"
     ]
    }
   ],
   "source": [
    "n = int(input(\"enter number : \"))\n",
    "\n",
    "if (n%2==0):\n",
    "    print(\"number is even\")\n",
    "else:\n",
    "    print(\"number is odd\")"
   ]
  },
  {
   "cell_type": "code",
   "execution_count": 16,
   "metadata": {},
   "outputs": [
    {
     "name": "stdout",
     "output_type": "stream",
     "text": [
      "6.0\n",
      "5\n",
      "0\n",
      "3\n"
     ]
    }
   ],
   "source": [
    "a = 12/2    \n",
    "print(a)    # give one point after dividend\n",
    "\n",
    "b = 11//2\n",
    "print(b)    # give divedend\n",
    "\n",
    "c = 12%2\n",
    "print(c)    # give remainder\n",
    "\n",
    "d = 11%4\n",
    "print(d)    # give remainder"
   ]
  }
 ],
 "metadata": {
  "kernelspec": {
   "display_name": "Python 3",
   "language": "python",
   "name": "python3"
  },
  "language_info": {
   "codemirror_mode": {
    "name": "ipython",
    "version": 3
   },
   "file_extension": ".py",
   "mimetype": "text/x-python",
   "name": "python",
   "nbconvert_exporter": "python",
   "pygments_lexer": "ipython3",
   "version": "3.11.5"
  },
  "orig_nbformat": 4
 },
 "nbformat": 4,
 "nbformat_minor": 2
}
