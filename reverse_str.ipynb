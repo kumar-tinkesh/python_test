{
 "cells": [
  {
   "cell_type": "code",
   "execution_count": 15,
   "metadata": {},
   "outputs": [
    {
     "name": "stdout",
     "output_type": "stream",
     "text": [
      "gnirts \n"
     ]
    }
   ],
   "source": [
    "str = \"string\"\n",
    "rstr = \" \"\n",
    "\n",
    "for i in str:\n",
    "    rstr = i + rstr\n",
    "print(rstr)"
   ]
  },
  {
   "cell_type": "code",
   "execution_count": null,
   "metadata": {},
   "outputs": [],
   "source": [
    "def reverse_string(str):  \n",
    "    str1 = \"\"   # Declaring empty string to store the reversed string  \n",
    "    for i in str:  \n",
    "        str1 = i + str1  \n",
    "    return str1    # It will return the reverse string to the caller function  \n",
    "     \n",
    "str = \"JavaTpoint\"    # Given String       \n",
    "print(\"The original string is: \",str)  \n",
    "print(\"The reverse string is\",reverse_string(str)) # Function call  \n"
   ]
  },
  {
   "cell_type": "code",
   "execution_count": 17,
   "metadata": {},
   "outputs": [
    {
     "name": "stdout",
     "output_type": "stream",
     "text": [
      "The original string  is :  string\n",
      "The reversed string using a while loop is :  gnirts\n"
     ]
    }
   ],
   "source": [
    "str = \"string\"\n",
    "print (\"The original string  is : \",str)   \n",
    "reverse_String = \"\"   \n",
    "count = len(str)\n",
    "while count > 0:   \n",
    "    # reverse_String += str[ count - 1 ]\n",
    "\n",
    "    reverse_String = reverse_String+str[count-1]\n",
    "    count = count - 1  \n",
    "                                                                     \n",
    "print (\"The reversed string using a while loop is : \",reverse_String) "
   ]
  },
  {
   "cell_type": "code",
   "execution_count": 18,
   "metadata": {},
   "outputs": [
    {
     "name": "stdout",
     "output_type": "stream",
     "text": [
      "gnirts\n"
     ]
    }
   ],
   "source": [
    "s = \"string\"\n",
    "str = str[:: -1]\n",
    "print(str)"
   ]
  },
  {
   "cell_type": "code",
   "execution_count": null,
   "metadata": {},
   "outputs": [],
   "source": [
    "def reverse(str):   \n",
    "    str = str[::-1]   \n",
    "    return str   \n",
    "    \n",
    "s = \"string\"  \n",
    "print (\"The original string  is : \",s)   \n",
    "print (\"The reversed string using extended slice operator  is : \",reverse(s))  "
   ]
  }
 ],
 "metadata": {
  "kernelspec": {
   "display_name": "Python 3",
   "language": "python",
   "name": "python3"
  },
  "language_info": {
   "codemirror_mode": {
    "name": "ipython",
    "version": 3
   },
   "file_extension": ".py",
   "mimetype": "text/x-python",
   "name": "python",
   "nbconvert_exporter": "python",
   "pygments_lexer": "ipython3",
   "version": "3.11.5"
  },
  "orig_nbformat": 4
 },
 "nbformat": 4,
 "nbformat_minor": 2
}
